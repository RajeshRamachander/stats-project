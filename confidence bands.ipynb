{
 "cells": [
  {
   "cell_type": "code",
   "execution_count": 1,
   "metadata": {},
   "outputs": [],
   "source": [
    "import pandas as pd\n",
    "import numpy as np"
   ]
  },
  {
   "cell_type": "code",
   "execution_count": 2,
   "metadata": {},
   "outputs": [],
   "source": [
    "def prepare(instrument):\n",
    "    instrument = instrument[instrument['Close'].notna()]\n",
    "    #instrument.sort_values(by=['Date'],ascending = True,inplace=True)\n",
    "    instrument['Daily Return Percent'] = instrument['Close'].pct_change(1)\n",
    "    instrument['Log Return'] = np.log(instrument.Close) - np.log(instrument.Close.shift(1))\n",
    "    instrument = instrument.dropna()\n",
    "    return instrument"
   ]
  },
  {
   "cell_type": "code",
   "execution_count": 3,
   "metadata": {},
   "outputs": [],
   "source": [
    "def confidence(stock,cmp,days,level,currency):\n",
    "    average_return = days*stock['Log Return'].mean() \n",
    "    std_return = np.sqrt(days) *stock['Log Return'].std()\n",
    "    upper = cmp * np.exp(average_return+(level*std_return))\n",
    "    lower = cmp * np.exp(average_return-(level*std_return))\n",
    "    r = 0\n",
    "    if currency:\n",
    "        r = 2\n",
    "    upper =  round(upper,r)\n",
    "    lower =  round(lower,r)\n",
    "    return (upper, lower)"
   ]
  },
  {
   "cell_type": "code",
   "execution_count": 4,
   "metadata": {},
   "outputs": [],
   "source": [
    "def work(stock,currency):\n",
    "    if currency == True:\n",
    "        cmp = float(input('current currency price'))\n",
    "    else:\n",
    "        cmp = int(input('current stock price'))\n",
    "    days = int(input('trading days'))\n",
    "    levels = (int)(input('confidence levels'))\n",
    "    stock = prepare(stock)\n",
    "    confidence_levels = {}\n",
    "    for i in range(1,levels+1):\n",
    "        confidence_levels[i] = confidence(stock,cmp,days,i,currency)\n",
    "    return confidence_levels"
   ]
  },
  {
   "cell_type": "code",
   "execution_count": 16,
   "metadata": {},
   "outputs": [],
   "source": [
    "stock = pd.read_csv('nifty Jan 18th.csv')"
   ]
  },
  {
   "cell_type": "code",
   "execution_count": 17,
   "metadata": {},
   "outputs": [
    {
     "name": "stdout",
     "output_type": "stream",
     "text": [
      "current stock price14281\n",
      "trading days3\n",
      "confidence levels3\n",
      "{1: (14816.0, 13821.0), 2: (15339.0, 13349.0), 3: (15882.0, 12893.0)}\n"
     ]
    }
   ],
   "source": [
    "print(work(stock,False))\n"
   ]
  },
  {
   "cell_type": "code",
   "execution_count": 163,
   "metadata": {},
   "outputs": [
    {
     "data": {
      "text/html": [
       "<div>\n",
       "<style scoped>\n",
       "    .dataframe tbody tr th:only-of-type {\n",
       "        vertical-align: middle;\n",
       "    }\n",
       "\n",
       "    .dataframe tbody tr th {\n",
       "        vertical-align: top;\n",
       "    }\n",
       "\n",
       "    .dataframe thead th {\n",
       "        text-align: right;\n",
       "    }\n",
       "</style>\n",
       "<table border=\"1\" class=\"dataframe\">\n",
       "  <thead>\n",
       "    <tr style=\"text-align: right;\">\n",
       "      <th></th>\n",
       "      <th>Date</th>\n",
       "      <th>Close</th>\n",
       "    </tr>\n",
       "  </thead>\n",
       "  <tbody>\n",
       "    <tr>\n",
       "      <th>236</th>\n",
       "      <td>2020-01-20</td>\n",
       "      <td>71.0570</td>\n",
       "    </tr>\n",
       "    <tr>\n",
       "      <th>235</th>\n",
       "      <td>2020-01-21</td>\n",
       "      <td>71.1825</td>\n",
       "    </tr>\n",
       "    <tr>\n",
       "      <th>234</th>\n",
       "      <td>2020-01-22</td>\n",
       "      <td>71.2056</td>\n",
       "    </tr>\n",
       "    <tr>\n",
       "      <th>233</th>\n",
       "      <td>2020-01-23</td>\n",
       "      <td>71.2437</td>\n",
       "    </tr>\n",
       "    <tr>\n",
       "      <th>232</th>\n",
       "      <td>2020-01-24</td>\n",
       "      <td>71.2404</td>\n",
       "    </tr>\n",
       "  </tbody>\n",
       "</table>\n",
       "</div>"
      ],
      "text/plain": [
       "          Date    Close\n",
       "236 2020-01-20  71.0570\n",
       "235 2020-01-21  71.1825\n",
       "234 2020-01-22  71.2056\n",
       "233 2020-01-23  71.2437\n",
       "232 2020-01-24  71.2404"
      ]
     },
     "execution_count": 163,
     "metadata": {},
     "output_type": "execute_result"
    }
   ],
   "source": [
    "st = pd.read_csv('rbi_rate_20-01-2020_14-01-2021.csv')\n",
    "st['Date'] = pd.to_datetime(st['Date'], format='%d-%b-%Y')\n",
    "st.sort_values(by=['Date'],ascending = True,inplace=True)\n",
    "\n",
    "st.head()"
   ]
  },
  {
   "cell_type": "code",
   "execution_count": 164,
   "metadata": {},
   "outputs": [
    {
     "data": {
      "text/html": [
       "<div>\n",
       "<style scoped>\n",
       "    .dataframe tbody tr th:only-of-type {\n",
       "        vertical-align: middle;\n",
       "    }\n",
       "\n",
       "    .dataframe tbody tr th {\n",
       "        vertical-align: top;\n",
       "    }\n",
       "\n",
       "    .dataframe thead th {\n",
       "        text-align: right;\n",
       "    }\n",
       "</style>\n",
       "<table border=\"1\" class=\"dataframe\">\n",
       "  <thead>\n",
       "    <tr style=\"text-align: right;\">\n",
       "      <th></th>\n",
       "      <th>Date</th>\n",
       "      <th>Close</th>\n",
       "    </tr>\n",
       "  </thead>\n",
       "  <tbody>\n",
       "    <tr>\n",
       "      <th>243</th>\n",
       "      <td>07-Jan-2021</td>\n",
       "      <td>14137.35</td>\n",
       "    </tr>\n",
       "    <tr>\n",
       "      <th>244</th>\n",
       "      <td>08-Jan-2021</td>\n",
       "      <td>14347.25</td>\n",
       "    </tr>\n",
       "    <tr>\n",
       "      <th>245</th>\n",
       "      <td>11-Jan-2021</td>\n",
       "      <td>14484.75</td>\n",
       "    </tr>\n",
       "    <tr>\n",
       "      <th>246</th>\n",
       "      <td>12-Jan-2021</td>\n",
       "      <td>14563.45</td>\n",
       "    </tr>\n",
       "    <tr>\n",
       "      <th>247</th>\n",
       "      <td>13-Jan-2021</td>\n",
       "      <td>14564.85</td>\n",
       "    </tr>\n",
       "  </tbody>\n",
       "</table>\n",
       "</div>"
      ],
      "text/plain": [
       "            Date     Close\n",
       "243  07-Jan-2021  14137.35\n",
       "244  08-Jan-2021  14347.25\n",
       "245  11-Jan-2021  14484.75\n",
       "246  12-Jan-2021  14563.45\n",
       "247  13-Jan-2021  14564.85"
      ]
     },
     "execution_count": 164,
     "metadata": {},
     "output_type": "execute_result"
    }
   ],
   "source": [
    "stock.tail()"
   ]
  },
  {
   "cell_type": "code",
   "execution_count": 165,
   "metadata": {},
   "outputs": [
    {
     "data": {
      "text/html": [
       "<div>\n",
       "<style scoped>\n",
       "    .dataframe tbody tr th:only-of-type {\n",
       "        vertical-align: middle;\n",
       "    }\n",
       "\n",
       "    .dataframe tbody tr th {\n",
       "        vertical-align: top;\n",
       "    }\n",
       "\n",
       "    .dataframe thead th {\n",
       "        text-align: right;\n",
       "    }\n",
       "</style>\n",
       "<table border=\"1\" class=\"dataframe\">\n",
       "  <thead>\n",
       "    <tr style=\"text-align: right;\">\n",
       "      <th></th>\n",
       "      <th>Date</th>\n",
       "      <th>Close</th>\n",
       "    </tr>\n",
       "  </thead>\n",
       "  <tbody>\n",
       "    <tr>\n",
       "      <th>236</th>\n",
       "      <td>2020-01-20</td>\n",
       "      <td>71.0570</td>\n",
       "    </tr>\n",
       "    <tr>\n",
       "      <th>235</th>\n",
       "      <td>2020-01-21</td>\n",
       "      <td>71.1825</td>\n",
       "    </tr>\n",
       "    <tr>\n",
       "      <th>234</th>\n",
       "      <td>2020-01-22</td>\n",
       "      <td>71.2056</td>\n",
       "    </tr>\n",
       "    <tr>\n",
       "      <th>233</th>\n",
       "      <td>2020-01-23</td>\n",
       "      <td>71.2437</td>\n",
       "    </tr>\n",
       "    <tr>\n",
       "      <th>232</th>\n",
       "      <td>2020-01-24</td>\n",
       "      <td>71.2404</td>\n",
       "    </tr>\n",
       "  </tbody>\n",
       "</table>\n",
       "</div>"
      ],
      "text/plain": [
       "          Date    Close\n",
       "236 2020-01-20  71.0570\n",
       "235 2020-01-21  71.1825\n",
       "234 2020-01-22  71.2056\n",
       "233 2020-01-23  71.2437\n",
       "232 2020-01-24  71.2404"
      ]
     },
     "execution_count": 165,
     "metadata": {},
     "output_type": "execute_result"
    }
   ],
   "source": [
    "st.head()"
   ]
  },
  {
   "cell_type": "code",
   "execution_count": 168,
   "metadata": {},
   "outputs": [
    {
     "name": "stdout",
     "output_type": "stream",
     "text": [
      "current currency price73.15\n",
      "trading days5\n",
      "confidence levels3\n",
      "{1: (73.76, 72.65), 2: (74.32, 72.1), 3: (74.89, 71.55)}\n"
     ]
    }
   ],
   "source": [
    "print(work(st,True))"
   ]
  },
  {
   "cell_type": "code",
   "execution_count": 171,
   "metadata": {},
   "outputs": [],
   "source": [
    "#16-01-2020-TO-14-01-2021RELIANCEALLN"
   ]
  },
  {
   "cell_type": "code",
   "execution_count": 18,
   "metadata": {},
   "outputs": [],
   "source": [
    "stock = pd.read_csv('16-01-2020-TO-14-01-2021RELIANCEALLN.csv')"
   ]
  },
  {
   "cell_type": "code",
   "execution_count": 19,
   "metadata": {},
   "outputs": [
    {
     "name": "stdout",
     "output_type": "stream",
     "text": [
      "current stock price1990\n",
      "trading days8\n",
      "confidence levels3\n",
      "{1: (2180.0, 1845.0), 2: (2370.0, 1697.0), 3: (2577.0, 1561.0)}\n"
     ]
    }
   ],
   "source": [
    "print(work(stock,False))"
   ]
  },
  {
   "cell_type": "code",
   "execution_count": 20,
   "metadata": {},
   "outputs": [],
   "source": [
    "#16-01-2020-TO-14-01-2021BIOCONALLN"
   ]
  },
  {
   "cell_type": "code",
   "execution_count": 21,
   "metadata": {},
   "outputs": [],
   "source": [
    "stock = pd.read_csv('20-01-2020-TO-15-01-2021BIOCONALLN.csv')"
   ]
  },
  {
   "cell_type": "code",
   "execution_count": 22,
   "metadata": {},
   "outputs": [
    {
     "name": "stdout",
     "output_type": "stream",
     "text": [
      "current stock price449\n",
      "trading days8\n",
      "confidence levels3\n",
      "{1: (488.0, 425.0), 2: (523.0, 397.0), 3: (561.0, 370.0)}\n"
     ]
    }
   ],
   "source": [
    "print(work(stock,False))"
   ]
  },
  {
   "cell_type": "code",
   "execution_count": null,
   "metadata": {},
   "outputs": [],
   "source": [
    "#20-01-2020-TO-18-01-2021TATAMOTORSALLN"
   ]
  },
  {
   "cell_type": "code",
   "execution_count": 10,
   "metadata": {},
   "outputs": [],
   "source": [
    "stock = pd.read_csv('20-01-2020-TO-18-01-2021TATAMOTORSALLN.csv')"
   ]
  },
  {
   "cell_type": "code",
   "execution_count": 11,
   "metadata": {},
   "outputs": [
    {
     "name": "stdout",
     "output_type": "stream",
     "text": [
      "current stock price248\n",
      "trading days8\n",
      "confidence levels3\n",
      "{1: (280.0, 224.0), 2: (312.0, 201.0), 3: (349.0, 180.0)}\n"
     ]
    }
   ],
   "source": [
    "print(work(stock,False))"
   ]
  },
  {
   "cell_type": "code",
   "execution_count": null,
   "metadata": {},
   "outputs": [],
   "source": []
  },
  {
   "cell_type": "code",
   "execution_count": null,
   "metadata": {},
   "outputs": [],
   "source": []
  },
  {
   "cell_type": "code",
   "execution_count": null,
   "metadata": {},
   "outputs": [],
   "source": []
  },
  {
   "cell_type": "code",
   "execution_count": null,
   "metadata": {},
   "outputs": [],
   "source": []
  },
  {
   "cell_type": "code",
   "execution_count": null,
   "metadata": {},
   "outputs": [],
   "source": []
  },
  {
   "cell_type": "code",
   "execution_count": null,
   "metadata": {},
   "outputs": [],
   "source": []
  }
 ],
 "metadata": {
  "kernelspec": {
   "display_name": "Python 3",
   "language": "python",
   "name": "python3"
  },
  "language_info": {
   "codemirror_mode": {
    "name": "ipython",
    "version": 3
   },
   "file_extension": ".py",
   "mimetype": "text/x-python",
   "name": "python",
   "nbconvert_exporter": "python",
   "pygments_lexer": "ipython3",
   "version": "3.8.3"
  }
 },
 "nbformat": 4,
 "nbformat_minor": 4
}
